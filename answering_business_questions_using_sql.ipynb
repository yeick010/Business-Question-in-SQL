{
 "cells": [
  {
   "cell_type": "markdown",
   "metadata": {},
   "source": [
    "### Answering Business Questions Using SQL\n",
    "#### Introduction and Schema Diagram:\n",
    "\n",
    "In this project, we are going to pratice using our SQL skills to answer businnes questions.\n",
    " \n",
    "We'll use The Chinook database that is provided as a SQLite database file called chinook.db.\n",
    "A copy of the database schema is below:\n",
    "![chinook.db](https://s3.amazonaws.com/dq-content/191/chinook-schema.svg)\n"
   ]
  },
  {
   "cell_type": "code",
   "execution_count": 25,
   "metadata": {},
   "outputs": [
    {
     "data": {
      "text/plain": [
       "'Connected: None@chinook.db'"
      ]
     },
     "execution_count": 25,
     "metadata": {},
     "output_type": "execute_result"
    }
   ],
   "source": [
    "%%capture\n",
    "%load_ext sql\n",
    "%sql sqlite:///chinook.db\n",
    "## Connect our Jupyter Notebook to our database file:    "
   ]
  },
  {
   "cell_type": "markdown",
   "metadata": {},
   "source": [
    " ### Overview of the Data\n",
    " Query the database to get a list of all tables and views in our database:"
   ]
  },
  {
   "cell_type": "code",
   "execution_count": 26,
   "metadata": {},
   "outputs": [
    {
     "name": "stdout",
     "output_type": "stream",
     "text": [
      "Done.\n"
     ]
    },
    {
     "data": {
      "text/html": [
       "<table>\n",
       "    <tr>\n",
       "        <th>name</th>\n",
       "        <th>type</th>\n",
       "    </tr>\n",
       "    <tr>\n",
       "        <td>album</td>\n",
       "        <td>table</td>\n",
       "    </tr>\n",
       "    <tr>\n",
       "        <td>artist</td>\n",
       "        <td>table</td>\n",
       "    </tr>\n",
       "    <tr>\n",
       "        <td>customer</td>\n",
       "        <td>table</td>\n",
       "    </tr>\n",
       "    <tr>\n",
       "        <td>employee</td>\n",
       "        <td>table</td>\n",
       "    </tr>\n",
       "    <tr>\n",
       "        <td>genre</td>\n",
       "        <td>table</td>\n",
       "    </tr>\n",
       "    <tr>\n",
       "        <td>invoice</td>\n",
       "        <td>table</td>\n",
       "    </tr>\n",
       "    <tr>\n",
       "        <td>invoice_line</td>\n",
       "        <td>table</td>\n",
       "    </tr>\n",
       "    <tr>\n",
       "        <td>media_type</td>\n",
       "        <td>table</td>\n",
       "    </tr>\n",
       "    <tr>\n",
       "        <td>playlist</td>\n",
       "        <td>table</td>\n",
       "    </tr>\n",
       "    <tr>\n",
       "        <td>playlist_track</td>\n",
       "        <td>table</td>\n",
       "    </tr>\n",
       "    <tr>\n",
       "        <td>track</td>\n",
       "        <td>table</td>\n",
       "    </tr>\n",
       "</table>"
      ],
      "text/plain": [
       "[('album', 'table'),\n",
       " ('artist', 'table'),\n",
       " ('customer', 'table'),\n",
       " ('employee', 'table'),\n",
       " ('genre', 'table'),\n",
       " ('invoice', 'table'),\n",
       " ('invoice_line', 'table'),\n",
       " ('media_type', 'table'),\n",
       " ('playlist', 'table'),\n",
       " ('playlist_track', 'table'),\n",
       " ('track', 'table')]"
      ]
     },
     "execution_count": 26,
     "metadata": {},
     "output_type": "execute_result"
    }
   ],
   "source": [
    "%%sql\n",
    "SELECT name,\n",
    "       type\n",
    "  FROM sqlite_master\n",
    " WHERE type IN ('table','view')"
   ]
  },
  {
   "cell_type": "markdown",
   "metadata": {},
   "source": [
    "### Selecting Albums to Purchase\n",
    "Scenario: The Chinook record store has just signed a deal with a new record label, and we've been tasked with selecting the first three albums that will be added to the store, from a list of four. All four albums are by artists that don't have any tracks in the store right now - we have the artist names, and the genre of music they produce:\n",
    "\n",
    "|Artist Name | Genre |\n",
    "|:------------|:-------|\n",
    "|Regal       | Hip-Hop|\n",
    "|Red Tone    | Punk  |\n",
    "|Meteor and the Girls| Pop|\n",
    "|Slim Jim Bites| Blues|\n",
    "\n",
    "The record label specializes in artists from the USA, and they have given Chinook some money to advertise the new albums in the USA, so we're interested in finding out which genres sell the best in the USA.\n",
    "\n",
    "We'll write a query that returns each genre, with the number of tracks sold in the USA:\n",
    " - in absolute numbers and\n",
    " - in percentages."
   ]
  },
  {
   "cell_type": "code",
   "execution_count": 27,
   "metadata": {},
   "outputs": [
    {
     "name": "stdout",
     "output_type": "stream",
     "text": [
      "Done.\n"
     ]
    },
    {
     "data": {
      "text/html": [
       "<table>\n",
       "    <tr>\n",
       "        <th>genre</th>\n",
       "        <th>track_sold</th>\n",
       "        <th>percentage_solt</th>\n",
       "    </tr>\n",
       "    <tr>\n",
       "        <td>Rock</td>\n",
       "        <td>561</td>\n",
       "        <td>0.53</td>\n",
       "    </tr>\n",
       "    <tr>\n",
       "        <td>Alternative &amp; Punk</td>\n",
       "        <td>130</td>\n",
       "        <td>0.12</td>\n",
       "    </tr>\n",
       "    <tr>\n",
       "        <td>Metal</td>\n",
       "        <td>124</td>\n",
       "        <td>0.12</td>\n",
       "    </tr>\n",
       "    <tr>\n",
       "        <td>R&amp;B/Soul</td>\n",
       "        <td>53</td>\n",
       "        <td>0.05</td>\n",
       "    </tr>\n",
       "    <tr>\n",
       "        <td>Blues</td>\n",
       "        <td>36</td>\n",
       "        <td>0.03</td>\n",
       "    </tr>\n",
       "    <tr>\n",
       "        <td>Alternative</td>\n",
       "        <td>35</td>\n",
       "        <td>0.03</td>\n",
       "    </tr>\n",
       "    <tr>\n",
       "        <td>Latin</td>\n",
       "        <td>22</td>\n",
       "        <td>0.02</td>\n",
       "    </tr>\n",
       "    <tr>\n",
       "        <td>Pop</td>\n",
       "        <td>22</td>\n",
       "        <td>0.02</td>\n",
       "    </tr>\n",
       "    <tr>\n",
       "        <td>Hip Hop/Rap</td>\n",
       "        <td>20</td>\n",
       "        <td>0.02</td>\n",
       "    </tr>\n",
       "    <tr>\n",
       "        <td>Jazz</td>\n",
       "        <td>14</td>\n",
       "        <td>0.01</td>\n",
       "    </tr>\n",
       "</table>"
      ],
      "text/plain": [
       "[('Rock', 561, 0.53),\n",
       " ('Alternative & Punk', 130, 0.12),\n",
       " ('Metal', 124, 0.12),\n",
       " ('R&B/Soul', 53, 0.05),\n",
       " ('Blues', 36, 0.03),\n",
       " ('Alternative', 35, 0.03),\n",
       " ('Latin', 22, 0.02),\n",
       " ('Pop', 22, 0.02),\n",
       " ('Hip Hop/Rap', 20, 0.02),\n",
       " ('Jazz', 14, 0.01)]"
      ]
     },
     "execution_count": 27,
     "metadata": {},
     "output_type": "execute_result"
    }
   ],
   "source": [
    "%%sql\n",
    "WITH track_sold_usa AS\n",
    "   (\n",
    "    SELECT il.* FROM invoice_line il\n",
    "    INNER JOIN invoice i ON i.invoice_id = il.invoice_id\n",
    "      INNER JOIN customer c\n",
    "         ON i.customer_id = c.customer_id\n",
    "      WHERE c.country = 'USA')\n",
    "    \n",
    "SELECT  g.name genre,\n",
    "        COUNT(tsu.invoice_line_id) AS track_sold,\n",
    "        ROUND(CAST(COUNT(tsu.invoice_line_id) AS FLOAT)/\n",
    "        (SELECT COUNT(*) FROM track_sold_usa),2) AS percentage_solt\n",
    "  FROM  track_sold_usa tsu  \n",
    " INNER  JOIN track t\n",
    "    ON  tsu.track_id = t.track_id \n",
    " INNER JOIN album a \n",
    "    ON  a.album_id = t.album_id\n",
    " INNER JOIN genre g\n",
    "    ON  g.genre_id = t.genre_id\n",
    " GROUP  BY 1\n",
    " ORDER  BY 2 DESC\n",
    " LIMIT  10;"
   ]
  },
  {
   "cell_type": "markdown",
   "metadata": {
    "collapsed": true
   },
   "source": [
    "based in the data that we have, like we can see, the genre which sell the best in the USA and the artits album that we should chose are: \n",
    "\n",
    " |Artist Name     |Genre  |\n",
    " |:------------|:-----:|\n",
    " |Red Tone      |Punk   |\n",
    " |Slim Jim Bites|Blues  |\n",
    " |Meteor and the Girls|Pop|\n",
    " \n",
    " It's worth keeping in mind that combined, these three genres only make up only 17% of total sales, so we should be on the lookout for artists and albums from the 'rock' genre, which accounts for 53% of sales.\n",
    " "
   ]
  },
  {
   "cell_type": "markdown",
   "metadata": {},
   "source": [
    "### Analyzing Employee Sales Performance\n",
    "\n",
    "Scenario: Each customer for the Chinook store gets assigned to a sales support agent within the company when they first make a purchase. We have been asked to analyze the purchases of customers belonging to each employee to see if any sales support agent is performing either better or worse than the others.\n",
    "\n"
   ]
  },
  {
   "cell_type": "code",
   "execution_count": 28,
   "metadata": {},
   "outputs": [
    {
     "name": "stdout",
     "output_type": "stream",
     "text": [
      "Done.\n"
     ]
    },
    {
     "data": {
      "text/html": [
       "<table>\n",
       "    <tr>\n",
       "        <th>name_employee</th>\n",
       "        <th>hire_date</th>\n",
       "        <th>total_sales</th>\n",
       "        <th>total</th>\n",
       "    </tr>\n",
       "    <tr>\n",
       "        <td>Jane Peacock</td>\n",
       "        <td>2017-04-01 00:00:00</td>\n",
       "        <td>21</td>\n",
       "        <td>1731.5099999999998</td>\n",
       "    </tr>\n",
       "    <tr>\n",
       "        <td>Margaret Park</td>\n",
       "        <td>2017-05-03 00:00:00</td>\n",
       "        <td>20</td>\n",
       "        <td>1584.0000000000002</td>\n",
       "    </tr>\n",
       "    <tr>\n",
       "        <td>Steve Johnson</td>\n",
       "        <td>2017-10-17 00:00:00</td>\n",
       "        <td>18</td>\n",
       "        <td>1393.92</td>\n",
       "    </tr>\n",
       "</table>"
      ],
      "text/plain": [
       "[('Jane Peacock', '2017-04-01 00:00:00', 21, 1731.5099999999998),\n",
       " ('Margaret Park', '2017-05-03 00:00:00', 20, 1584.0000000000002),\n",
       " ('Steve Johnson', '2017-10-17 00:00:00', 18, 1393.92)]"
      ]
     },
     "execution_count": 28,
     "metadata": {},
     "output_type": "execute_result"
    }
   ],
   "source": [
    "%%sql\n",
    "WITH support_sales_customer  AS \n",
    "(SELECT i.customer_id,\n",
    "        c.support_rep_id,\n",
    "        COUNT(i.total) total_sales,\n",
    "        SUM(i.total) total\n",
    "   FROM customer c\n",
    "  INNER JOIN invoice i \n",
    "     ON c.customer_id = i.customer_id\n",
    "  GROUP BY 1,2)\n",
    "\n",
    "SELECT e.first_name ||' '||e.last_name name_employee,\n",
    "       e.hire_date,\n",
    "       COUNT(ssc.total) total_sales,\n",
    "       SUM(ssc.total)  total \n",
    "  FROM employee e\n",
    " INNER JOIN support_sales_customer ssc\n",
    "    ON ssc.support_rep_id = e.employee_id\n",
    " GROUP BY 1,2;   \n",
    "  "
   ]
  },
  {
   "cell_type": "markdown",
   "metadata": {
    "collapsed": true
   },
   "source": [
    "We can see that the best seller amongh employees is Jane Peacock, but it can be due by the different  time hire in the company..."
   ]
  },
  {
   "cell_type": "markdown",
   "metadata": {},
   "source": [
    "### Analyzing Sales by Country\n",
    "\n",
    "Our next task is to analyze the sales data for customers from each different country. we have been given guidance to use the `country` value from the customers table, and ignore the country from the billing address in the `invoice` table. \n",
    "\n",
    "In particular, we have been directed to calculate data, for each country, on the:\n",
    "\n",
    " - total number of customers\n",
    " - total value of sales\n",
    " - average value of sales per customer\n",
    " - average order value"
   ]
  },
  {
   "cell_type": "code",
   "execution_count": 32,
   "metadata": {
    "scrolled": true
   },
   "outputs": [
    {
     "name": "stdout",
     "output_type": "stream",
     "text": [
      "Done.\n"
     ]
    },
    {
     "data": {
      "text/html": [
       "<table>\n",
       "    <tr>\n",
       "        <th>country</th>\n",
       "        <th>customers</th>\n",
       "        <th>total_sales</th>\n",
       "        <th>sales_avg_customer</th>\n",
       "        <th>avg_order</th>\n",
       "    </tr>\n",
       "    <tr>\n",
       "        <td>USA</td>\n",
       "        <td>13</td>\n",
       "        <td>1040.490000000008</td>\n",
       "        <td>80.04</td>\n",
       "        <td>7.94</td>\n",
       "    </tr>\n",
       "    <tr>\n",
       "        <td>Canada</td>\n",
       "        <td>8</td>\n",
       "        <td>535.5900000000034</td>\n",
       "        <td>66.95</td>\n",
       "        <td>7.05</td>\n",
       "    </tr>\n",
       "    <tr>\n",
       "        <td>Brazil</td>\n",
       "        <td>5</td>\n",
       "        <td>427.68000000000245</td>\n",
       "        <td>85.54</td>\n",
       "        <td>7.01</td>\n",
       "    </tr>\n",
       "    <tr>\n",
       "        <td>France</td>\n",
       "        <td>5</td>\n",
       "        <td>389.0700000000021</td>\n",
       "        <td>77.81</td>\n",
       "        <td>7.78</td>\n",
       "    </tr>\n",
       "    <tr>\n",
       "        <td>Germany</td>\n",
       "        <td>4</td>\n",
       "        <td>334.6200000000016</td>\n",
       "        <td>83.66</td>\n",
       "        <td>8.16</td>\n",
       "    </tr>\n",
       "    <tr>\n",
       "        <td>Czech Republic</td>\n",
       "        <td>2</td>\n",
       "        <td>273.24000000000103</td>\n",
       "        <td>136.62</td>\n",
       "        <td>9.11</td>\n",
       "    </tr>\n",
       "    <tr>\n",
       "        <td>United Kingdom</td>\n",
       "        <td>3</td>\n",
       "        <td>245.52000000000078</td>\n",
       "        <td>81.84</td>\n",
       "        <td>8.77</td>\n",
       "    </tr>\n",
       "    <tr>\n",
       "        <td>Portugal</td>\n",
       "        <td>2</td>\n",
       "        <td>185.13000000000022</td>\n",
       "        <td>92.57</td>\n",
       "        <td>6.38</td>\n",
       "    </tr>\n",
       "    <tr>\n",
       "        <td>India</td>\n",
       "        <td>2</td>\n",
       "        <td>183.1500000000002</td>\n",
       "        <td>91.58</td>\n",
       "        <td>8.72</td>\n",
       "    </tr>\n",
       "    <tr>\n",
       "        <td>Other</td>\n",
       "        <td>15</td>\n",
       "        <td>1094.9400000000085</td>\n",
       "        <td>73.0</td>\n",
       "        <td>7.45</td>\n",
       "    </tr>\n",
       "</table>"
      ],
      "text/plain": [
       "[('USA', 13, 1040.490000000008, 80.04, 7.94),\n",
       " ('Canada', 8, 535.5900000000034, 66.95, 7.05),\n",
       " ('Brazil', 5, 427.68000000000245, 85.54, 7.01),\n",
       " ('France', 5, 389.0700000000021, 77.81, 7.78),\n",
       " ('Germany', 4, 334.6200000000016, 83.66, 8.16),\n",
       " ('Czech Republic', 2, 273.24000000000103, 136.62, 9.11),\n",
       " ('United Kingdom', 3, 245.52000000000078, 81.84, 8.77),\n",
       " ('Portugal', 2, 185.13000000000022, 92.57, 6.38),\n",
       " ('India', 2, 183.1500000000002, 91.58, 8.72),\n",
       " ('Other', 15, 1094.9400000000085, 73.0, 7.45)]"
      ]
     },
     "execution_count": 32,
     "metadata": {},
     "output_type": "execute_result"
    }
   ],
   "source": [
    "%%sql\n",
    "WITH countries_or_other AS \n",
    "(\n",
    " SELECT \n",
    "     CASE\n",
    "        WHEN ( \n",
    "              SELECT COUNT(*)\n",
    "                FROM customer\n",
    "               WHERE country = c.country\n",
    "             ) = 1 THEN 'Other'\n",
    "        ELSE c.country\n",
    "    END country,\n",
    "    c.customer_id,\n",
    "    il.*\n",
    "  FROM invoice_line il\n",
    " INNER JOIN invoice i ON i.invoice_id = il.invoice_id\n",
    " INNER JOIN customer c ON c.customer_id = i.customer_id )  \n",
    "\n",
    "SELECT \n",
    "     country,\n",
    "     customers,\n",
    "     total_sales,\n",
    "     sales_avg_customer, \n",
    "    avg_order\n",
    "FROM\n",
    "   (\n",
    "    SELECT\n",
    "         country,\n",
    "         COUNT(distinct customer_id) customers,\n",
    "         SUM(unit_price) As total_sales,\n",
    "         ROUND(SUM(unit_price) / COUNT(distinct customer_id),2) sales_avg_customer,\n",
    "         ROUND(SUM(unit_price) / COUNT(distinct invoice_id),2)  avg_order,\n",
    "         \n",
    "        CASE\n",
    "           WHEN country = 'Other' THEN 1\n",
    "           ELSE 0\n",
    "        END sort  \n",
    "    FROM countries_or_other \n",
    "   GROUP BY country\n",
    "   ORDER BY sort ASC, total_sales DESC); "
   ]
  },
  {
   "cell_type": "markdown",
   "metadata": {},
   "source": [
    "We can see that base on the `average_order` the countrys that seem interesting to investing or known more about are:\n",
    " - Czech Republic\n",
    " - Unite Kingdom\n",
    " - India"
   ]
  },
  {
   "cell_type": "markdown",
   "metadata": {},
   "source": [
    "### Albums vs Individual Tracks\n",
    "\n",
    "The Chinook store is setup in a way that allows customer to make purchases in one of the two ways:\n",
    "\n",
    " - purchase a whole album\n",
    " - purchase a collection of one or more individual tracks.\n",
    " \n",
    "Management are currently considering changing their purchasing strategy to save money. The strategy they are considering is to purchase only the most popular tracks from each album from record companies, instead of purchasing every track from an album.\n",
    "\n",
    "We have been asked to find out what percentage of purchases are individual tracks vs whole albums, so that management can use this data to understand the effect this decision might have on overall revenue.\n",
    "\n",
    "In order to risolve this, we're going to have to identify whether each invoice has all the tracks from an album. We can do this by getting the list of tracks from an invoice and comparing it to the list of tracks from an album. We can find the album to compare the purchase to by looking up the album that one of the purchased tracks belongs to. It doesn't matter which track we pick, since if it's an album purchase, that album will be the same for all tracks."
   ]
  },
  {
   "cell_type": "code",
   "execution_count": 30,
   "metadata": {},
   "outputs": [
    {
     "name": "stdout",
     "output_type": "stream",
     "text": [
      "Done.\n"
     ]
    },
    {
     "data": {
      "text/html": [
       "<table>\n",
       "    <tr>\n",
       "        <th>album_purchase</th>\n",
       "        <th>number_of_invoices</th>\n",
       "        <th>percent (%)</th>\n",
       "    </tr>\n",
       "    <tr>\n",
       "        <td>no</td>\n",
       "        <td>500</td>\n",
       "        <td>81.43</td>\n",
       "    </tr>\n",
       "    <tr>\n",
       "        <td>yes</td>\n",
       "        <td>114</td>\n",
       "        <td>18.57</td>\n",
       "    </tr>\n",
       "</table>"
      ],
      "text/plain": [
       "[('no', 500, 81.43), ('yes', 114, 18.57)]"
      ]
     },
     "execution_count": 30,
     "metadata": {},
     "output_type": "execute_result"
    }
   ],
   "source": [
    "%%sql\n",
    "WITH invoice_first_track AS\n",
    "    (\n",
    "     SELECT \n",
    "         invoice_id,\n",
    "         MIN(track_id) first_track_id\n",
    "     FROM invoice_line\n",
    "     GROUP BY 1\n",
    "    )\n",
    "\n",
    "SELECT album_purchase,\n",
    "       COUNT(invoice_id) number_of_invoices,\n",
    "       ROUND((CAST(COUNT(invoice_id) AS FLOAT) / (\n",
    "                                           SELECT COUNT(*) \n",
    "                                           FROM invoice\n",
    "                                           )) * 100, 2) \"percent (%)\"                              \n",
    "FROM (\n",
    "      SELECT \n",
    "          ift.*,\n",
    "          CASE \n",
    "              WHEN\n",
    "                  (\n",
    "                   SELECT t.track_id\n",
    "                   FROM track t\n",
    "                   WHERE t.album_id = (\n",
    "                                       SELECT t2.album_id\n",
    "                                       FROM track t2\n",
    "                                       WHERE t2.track_id = ift.first_track_id\n",
    "                                       )\n",
    "                                       \n",
    "                    EXCEPT\n",
    "                    \n",
    "                    SELECT il2.track_id\n",
    "                    FROM invoice_line il2\n",
    "                    WHERE il2.invoice_id = ift.invoice_id  \n",
    "                   ) IS NULL\n",
    "                AND \n",
    "                   (\n",
    "                    SELECT il2.track_id\n",
    "                    FROM invoice_line il2\n",
    "                    WHERE il2.invoice_id = ift.invoice_id\n",
    "                    \n",
    "                    EXCEPT\n",
    "                    \n",
    "                    SELECT t.track_id \n",
    "                    FROM track t \n",
    "                    WHERE t.album_id = (\n",
    "                                        SELECT t2.album_id\n",
    "                                        FROM track t2\n",
    "                                        WHERE t2.track_id = ift.first_track_id\n",
    "                                        ) \n",
    "                    ) IS NULL\n",
    "                THEN \"yes\"\n",
    "                ELSE \"no\"\n",
    "            END AS \"album_purchase\"\n",
    "            FROM invoice_first_track ift            \n",
    "    )\n",
    "    \n",
    "GROUP by album_purchase;"
   ]
  },
  {
   "cell_type": "markdown",
   "metadata": {
    "collapsed": true
   },
   "source": [
    "Base on the data the numbers of album purchases is about 18.6%. \n",
    "So, my recommendation is that the Chinook store should not continue to buy full albums, instead they must considering to purchase only the most popular tracks from each album from record companies."
   ]
  },
  {
   "cell_type": "markdown",
   "metadata": {},
   "source": [
    "### Next step:\n",
    "some more business questions:\n",
    " -  Which artist is used in the most playlists?\n",
    " - How many tracks have been purchased vs not purchased?\n",
    " - Is the range of tracks in the store reflective of their sales popularity?\n",
    " - Do protected vs non-protected media types have an effect on popularity?"
   ]
  },
  {
   "cell_type": "code",
   "execution_count": null,
   "metadata": {
    "collapsed": true
   },
   "outputs": [],
   "source": []
  }
 ],
 "metadata": {
  "kernelspec": {
   "display_name": "Python 3",
   "language": "python",
   "name": "python3"
  },
  "language_info": {
   "codemirror_mode": {
    "name": "ipython",
    "version": 3
   },
   "file_extension": ".py",
   "mimetype": "text/x-python",
   "name": "python",
   "nbconvert_exporter": "python",
   "pygments_lexer": "ipython3",
   "version": "3.8.8"
  }
 },
 "nbformat": 4,
 "nbformat_minor": 2
}
